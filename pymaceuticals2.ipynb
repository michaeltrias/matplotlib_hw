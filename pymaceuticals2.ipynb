{
 "cells": [
  {
   "cell_type": "markdown",
   "metadata": {},
   "source": [
    "## Observations and Insights"
   ]
  },
  {
   "cell_type": "markdown",
   "metadata": {},
   "source": []
  },
  {
   "cell_type": "markdown",
   "metadata": {},
   "source": [
    "## Dependencies and starter code"
   ]
  },
  {
   "cell_type": "code",
   "execution_count": 55,
   "metadata": {},
   "outputs": [
    {
     "data": {
      "text/html": [
       "<div>\n",
       "<style scoped>\n",
       "    .dataframe tbody tr th:only-of-type {\n",
       "        vertical-align: middle;\n",
       "    }\n",
       "\n",
       "    .dataframe tbody tr th {\n",
       "        vertical-align: top;\n",
       "    }\n",
       "\n",
       "    .dataframe thead th {\n",
       "        text-align: right;\n",
       "    }\n",
       "</style>\n",
       "<table border=\"1\" class=\"dataframe\">\n",
       "  <thead>\n",
       "    <tr style=\"text-align: right;\">\n",
       "      <th></th>\n",
       "      <th>Mouse ID</th>\n",
       "      <th>Drug Regimen</th>\n",
       "      <th>Sex</th>\n",
       "      <th>Age_months</th>\n",
       "      <th>Weight (g)</th>\n",
       "      <th>Timepoint</th>\n",
       "      <th>Tumor Volume (mm3)</th>\n",
       "      <th>Metastatic Sites</th>\n",
       "    </tr>\n",
       "  </thead>\n",
       "  <tbody>\n",
       "    <tr>\n",
       "      <td>0</td>\n",
       "      <td>k403</td>\n",
       "      <td>Ramicane</td>\n",
       "      <td>Male</td>\n",
       "      <td>21</td>\n",
       "      <td>16</td>\n",
       "      <td>0</td>\n",
       "      <td>45.000000</td>\n",
       "      <td>0</td>\n",
       "    </tr>\n",
       "    <tr>\n",
       "      <td>1</td>\n",
       "      <td>k403</td>\n",
       "      <td>Ramicane</td>\n",
       "      <td>Male</td>\n",
       "      <td>21</td>\n",
       "      <td>16</td>\n",
       "      <td>5</td>\n",
       "      <td>38.825898</td>\n",
       "      <td>0</td>\n",
       "    </tr>\n",
       "    <tr>\n",
       "      <td>2</td>\n",
       "      <td>k403</td>\n",
       "      <td>Ramicane</td>\n",
       "      <td>Male</td>\n",
       "      <td>21</td>\n",
       "      <td>16</td>\n",
       "      <td>10</td>\n",
       "      <td>35.014271</td>\n",
       "      <td>1</td>\n",
       "    </tr>\n",
       "    <tr>\n",
       "      <td>3</td>\n",
       "      <td>k403</td>\n",
       "      <td>Ramicane</td>\n",
       "      <td>Male</td>\n",
       "      <td>21</td>\n",
       "      <td>16</td>\n",
       "      <td>15</td>\n",
       "      <td>34.223992</td>\n",
       "      <td>1</td>\n",
       "    </tr>\n",
       "    <tr>\n",
       "      <td>4</td>\n",
       "      <td>k403</td>\n",
       "      <td>Ramicane</td>\n",
       "      <td>Male</td>\n",
       "      <td>21</td>\n",
       "      <td>16</td>\n",
       "      <td>20</td>\n",
       "      <td>32.997729</td>\n",
       "      <td>1</td>\n",
       "    </tr>\n",
       "  </tbody>\n",
       "</table>\n",
       "</div>"
      ],
      "text/plain": [
       "  Mouse ID Drug Regimen   Sex  Age_months  Weight (g)  Timepoint  \\\n",
       "0     k403     Ramicane  Male          21          16          0   \n",
       "1     k403     Ramicane  Male          21          16          5   \n",
       "2     k403     Ramicane  Male          21          16         10   \n",
       "3     k403     Ramicane  Male          21          16         15   \n",
       "4     k403     Ramicane  Male          21          16         20   \n",
       "\n",
       "   Tumor Volume (mm3)  Metastatic Sites  \n",
       "0           45.000000                 0  \n",
       "1           38.825898                 0  \n",
       "2           35.014271                 1  \n",
       "3           34.223992                 1  \n",
       "4           32.997729                 1  "
      ]
     },
     "execution_count": 55,
     "metadata": {},
     "output_type": "execute_result"
    }
   ],
   "source": [
    "# Dependencies and Setup\n",
    "import matplotlib.pyplot as plt\n",
    "import pandas as pd\n",
    "import scipy.stats as st\n",
    "\n",
    "# Study data files\n",
    "mouse_metadata = \"data/Mouse_metadata.csv\"\n",
    "study_results = \"data/Study_results.csv\"\n",
    "\n",
    "# Read the mouse data and the study results\n",
    "mouse_metadata = pd.read_csv(mouse_metadata)\n",
    "study_results = pd.read_csv(study_results)\n",
    "\n",
    "#mouse_metadata.columns\n",
    "#study_results.columns\n",
    "# Combine the data into a single dataset\n",
    "pyma_data = pd.merge(mouse_metadata,study_results, on=\"Mouse ID\")\n",
    "\n",
    "pyma_data.head()"
   ]
  },
  {
   "cell_type": "markdown",
   "metadata": {},
   "source": [
    "## Summary statistics"
   ]
  },
  {
   "cell_type": "code",
   "execution_count": 56,
   "metadata": {},
   "outputs": [
    {
     "data": {
      "text/html": [
       "<div>\n",
       "<style scoped>\n",
       "    .dataframe tbody tr th:only-of-type {\n",
       "        vertical-align: middle;\n",
       "    }\n",
       "\n",
       "    .dataframe tbody tr th {\n",
       "        vertical-align: top;\n",
       "    }\n",
       "\n",
       "    .dataframe thead th {\n",
       "        text-align: right;\n",
       "    }\n",
       "</style>\n",
       "<table border=\"1\" class=\"dataframe\">\n",
       "  <thead>\n",
       "    <tr style=\"text-align: right;\">\n",
       "      <th></th>\n",
       "      <th>Mean</th>\n",
       "      <th>Median</th>\n",
       "      <th>Variance</th>\n",
       "      <th>Standard Deviation</th>\n",
       "      <th>SEM</th>\n",
       "    </tr>\n",
       "    <tr>\n",
       "      <th>Drug Regimen</th>\n",
       "      <th></th>\n",
       "      <th></th>\n",
       "      <th></th>\n",
       "      <th></th>\n",
       "      <th></th>\n",
       "    </tr>\n",
       "  </thead>\n",
       "  <tbody>\n",
       "    <tr>\n",
       "      <td>Capomulin</td>\n",
       "      <td>40.68</td>\n",
       "      <td>41.56</td>\n",
       "      <td>24.95</td>\n",
       "      <td>4.99</td>\n",
       "      <td>0.33</td>\n",
       "    </tr>\n",
       "    <tr>\n",
       "      <td>Ceftamin</td>\n",
       "      <td>52.59</td>\n",
       "      <td>51.78</td>\n",
       "      <td>39.29</td>\n",
       "      <td>6.27</td>\n",
       "      <td>0.47</td>\n",
       "    </tr>\n",
       "    <tr>\n",
       "      <td>Infubinol</td>\n",
       "      <td>52.88</td>\n",
       "      <td>51.82</td>\n",
       "      <td>43.13</td>\n",
       "      <td>6.57</td>\n",
       "      <td>0.49</td>\n",
       "    </tr>\n",
       "    <tr>\n",
       "      <td>Ketapril</td>\n",
       "      <td>55.24</td>\n",
       "      <td>53.70</td>\n",
       "      <td>68.55</td>\n",
       "      <td>8.28</td>\n",
       "      <td>0.60</td>\n",
       "    </tr>\n",
       "    <tr>\n",
       "      <td>Naftisol</td>\n",
       "      <td>54.33</td>\n",
       "      <td>52.51</td>\n",
       "      <td>66.17</td>\n",
       "      <td>8.13</td>\n",
       "      <td>0.60</td>\n",
       "    </tr>\n",
       "    <tr>\n",
       "      <td>Placebo</td>\n",
       "      <td>54.03</td>\n",
       "      <td>52.29</td>\n",
       "      <td>61.17</td>\n",
       "      <td>7.82</td>\n",
       "      <td>0.58</td>\n",
       "    </tr>\n",
       "    <tr>\n",
       "      <td>Propriva</td>\n",
       "      <td>52.32</td>\n",
       "      <td>50.85</td>\n",
       "      <td>42.35</td>\n",
       "      <td>6.51</td>\n",
       "      <td>0.51</td>\n",
       "    </tr>\n",
       "    <tr>\n",
       "      <td>Ramicane</td>\n",
       "      <td>40.22</td>\n",
       "      <td>40.67</td>\n",
       "      <td>23.49</td>\n",
       "      <td>4.85</td>\n",
       "      <td>0.32</td>\n",
       "    </tr>\n",
       "    <tr>\n",
       "      <td>Stelasyn</td>\n",
       "      <td>54.23</td>\n",
       "      <td>52.43</td>\n",
       "      <td>59.45</td>\n",
       "      <td>7.71</td>\n",
       "      <td>0.57</td>\n",
       "    </tr>\n",
       "    <tr>\n",
       "      <td>Zoniferol</td>\n",
       "      <td>53.24</td>\n",
       "      <td>51.82</td>\n",
       "      <td>48.53</td>\n",
       "      <td>6.97</td>\n",
       "      <td>0.52</td>\n",
       "    </tr>\n",
       "  </tbody>\n",
       "</table>\n",
       "</div>"
      ],
      "text/plain": [
       "               Mean  Median  Variance  Standard Deviation   SEM\n",
       "Drug Regimen                                                   \n",
       "Capomulin     40.68   41.56     24.95                4.99  0.33\n",
       "Ceftamin      52.59   51.78     39.29                6.27  0.47\n",
       "Infubinol     52.88   51.82     43.13                6.57  0.49\n",
       "Ketapril      55.24   53.70     68.55                8.28  0.60\n",
       "Naftisol      54.33   52.51     66.17                8.13  0.60\n",
       "Placebo       54.03   52.29     61.17                7.82  0.58\n",
       "Propriva      52.32   50.85     42.35                6.51  0.51\n",
       "Ramicane      40.22   40.67     23.49                4.85  0.32\n",
       "Stelasyn      54.23   52.43     59.45                7.71  0.57\n",
       "Zoniferol     53.24   51.82     48.53                6.97  0.52"
      ]
     },
     "execution_count": 56,
     "metadata": {},
     "output_type": "execute_result"
    }
   ],
   "source": [
    "# Generate a summary statistics table of mean, median, variance, standard deviation, and SEM of the tumor volume for each regimen\n",
    "\n",
    "regimen_group = pyma_data.groupby(\"Drug Regimen\")\n",
    "#regimen_group.head()\n",
    "#summary elements\n",
    "#chain to turn into dataframe\n",
    "#round values to 2 decimals\n",
    "regimen_mean = pd.DataFrame(regimen_group[\"Tumor Volume (mm3)\"].mean())\n",
    "regimen_mean = round(regimen_mean.rename(columns ={\"Tumor Volume (mm3)\":\"Mean\"}),2)\n",
    "\n",
    "regimen_median = pd.DataFrame(regimen_group[\"Tumor Volume (mm3)\"].median())\n",
    "regimen_median = round(regimen_median.rename(columns={\"Tumor Volume (mm3)\":\"Median\"}),2)\n",
    "\n",
    "\n",
    "regimen_var = pd.DataFrame(regimen_group[\"Tumor Volume (mm3)\"].var())\n",
    "regimen_var = round(regimen_var.rename(columns={\"Tumor Volume (mm3)\":\"Variance\"}),2)\n",
    "\n",
    "regimen_std = pd.DataFrame(regimen_group[\"Tumor Volume (mm3)\"].std())\n",
    "regimen_std = round(regimen_std.rename(columns={\"Tumor Volume (mm3)\":\"Standard Deviation\"}),2)\n",
    "\n",
    "regimen_sem = pd.DataFrame(regimen_group[\"Tumor Volume (mm3)\"].sem())\n",
    "regimen_sem = round(regimen_sem.rename(columns={\"Tumor Volume (mm3)\":\"SEM\"}),2)\n",
    "                    \n",
    "\n",
    "\n",
    "#Turn into dataframe\n",
    "#regimen_mean_df = pd.DataFrame(regimen_mean)\n",
    "#regimen_median_df = pd.DataFrame(regimen_median)\n",
    "\n",
    "regimen_summary = pd.merge(regimen_mean,regimen_median,on=\"Drug Regimen\")\n",
    "regimen_summary2 = pd.merge(regimen_summary,regimen_var,on=\"Drug Regimen\")\n",
    "regimen_summary3 = pd.merge(regimen_summary2,regimen_std, on=\"Drug Regimen\")\n",
    "regimen_summary4 = pd.merge(regimen_summary3, regimen_sem, on=\"Drug Regimen\")\n",
    "regimen_summary4\n",
    "\n",
    "regimen_summary4\n"
   ]
  },
  {
   "cell_type": "markdown",
   "metadata": {},
   "source": [
    "## Bar plots"
   ]
  },
  {
   "cell_type": "code",
   "execution_count": null,
   "metadata": {},
   "outputs": [],
   "source": []
  },
  {
   "cell_type": "code",
   "execution_count": 57,
   "metadata": {},
   "outputs": [
    {
     "data": {
      "text/plain": [
       "<matplotlib.axes._subplots.AxesSubplot at 0x1a25e969d08>"
      ]
     },
     "execution_count": 57,
     "metadata": {},
     "output_type": "execute_result"
    },
    {
     "data": {
      "image/png": "[encoded data removed]",
      "text/plain": [
       "<Figure size 432x288 with 1 Axes>"
      ]
     },
     "metadata": {
      "needs_background": "light"
     },
     "output_type": "display_data"
    }
   ],
   "source": [
    "# Generate a bar plot showing number of data points for each treatment regimen using pandas\n",
    "#Datapoints based on # of mouse trials per regimen\n",
    "\n",
    "mouseid_df = pd.DataFrame(regimen_group[\"Mouse ID\"].count())\n",
    "\n",
    "mouseid_df = (mouseid_df.sort_values(\"Mouse ID\", ascending =False))\n",
    "mouseid_df.plot.bar()\n"
   ]
  },
  {
   "cell_type": "code",
   "execution_count": 58,
   "metadata": {},
   "outputs": [
    {
     "data": {
      "text/plain": [
       "([<matplotlib.axis.XTick at 0x1a25ea1f208>,\n",
       "  <matplotlib.axis.XTick at 0x1a25ea1e848>,\n",
       "  <matplotlib.axis.XTick at 0x1a25ea46108>,\n",
       "  <matplotlib.axis.XTick at 0x1a25ea5d648>,\n",
       "  <matplotlib.axis.XTick at 0x1a25ea5dec8>,\n",
       "  <matplotlib.axis.XTick at 0x1a25ea60448>,\n",
       "  <matplotlib.axis.XTick at 0x1a25ea60c48>,\n",
       "  <matplotlib.axis.XTick at 0x1a25ea65448>,\n",
       "  <matplotlib.axis.XTick at 0x1a25ea65c08>,\n",
       "  <matplotlib.axis.XTick at 0x1a25ea6b408>],\n",
       " <a list of 10 Text xticklabel objects>)"
      ]
     },
     "execution_count": 58,
     "metadata": {},
     "output_type": "execute_result"
    },
    {
     "data": {
      "image/png": "[encoded data removed]",
      "text/plain": [
       "<Figure size 432x288 with 1 Axes>"
      ]
     },
     "metadata": {
      "needs_background": "light"
     },
     "output_type": "display_data"
    }
   ],
   "source": [
    "# Generate a bar plot showing number of data points for each treatment regimen using pyplot\n",
    "#plt.plot()\n",
    "\n",
    "x_values = mouseid_df.index.values\n",
    "y_values = mouseid_df[\"Mouse ID\"]\n",
    "\n",
    "labels = [\"Capomulin\", \"Ceftamin\", \"Infubinol\", \"Ketapril\", \"Naftisol\", \"Placebo\", \"Propriva\", \"Ramicane\", \"Stelasyn\",\"Zoniferol\"]\n",
    "\n",
    "plt.bar(x_values,y_values, width =0.5)\n",
    "plt.xticks(x_values, labels, rotation =\"vertical\")"
   ]
  },
  {
   "cell_type": "code",
   "execution_count": null,
   "metadata": {},
   "outputs": [],
   "source": []
  },
  {
   "cell_type": "markdown",
   "metadata": {},
   "source": [
    "## Pie plots"
   ]
  },
  {
   "cell_type": "code",
   "execution_count": 59,
   "metadata": {},
   "outputs": [
    {
     "name": "stdout",
     "output_type": "stream",
     "text": [
      "Male      125\n",
      "Female    124\n",
      "Name: Sex, dtype: int64\n"
     ]
    },
    {
     "data": {
      "text/plain": [
       "<matplotlib.axes._subplots.AxesSubplot at 0x1a25ea99348>"
      ]
     },
     "execution_count": 59,
     "metadata": {},
     "output_type": "execute_result"
    },
    {
     "data": {
      "image/png": "[encoded data removed]",
      "text/plain": [
       "<Figure size 432x288 with 1 Axes>"
      ]
     },
     "metadata": {},
     "output_type": "display_data"
    }
   ],
   "source": [
    "# Generate a pie plot showing the distribution of female versus male mice using pandas\n",
    "\n",
    "mouse_gender = pyma_data[[\"Mouse ID\",\"Sex\"]]\n",
    "#remove duplicate trials\n",
    "mouse_gender = mouse_gender.drop_duplicates(subset =\"Mouse ID\", keep = \"first\") \n",
    "#based on excel, should be about 249 different mouse id\n",
    "#separate male and female gender\n",
    "mouse_gender = mouse_gender[\"Sex\"].value_counts()\n",
    "print(mouse_gender)\n",
    "\n",
    "\n",
    "type(mouse_gender)\n",
    "\n",
    "mouse_gender.plot.pie(autopct = '%1.1f%%')\n",
    "#print(pandas_pie_plt)\n",
    "\n",
    "\n",
    "\n"
   ]
  },
  {
   "cell_type": "code",
   "execution_count": 60,
   "metadata": {},
   "outputs": [
    {
     "data": {
      "text/plain": [
       "Text(0, 0.5, 'Sex')"
      ]
     },
     "execution_count": 60,
     "metadata": {},
     "output_type": "execute_result"
    },
    {
     "data": {
      "image/png": "[encoded data removed]",
      "text/plain": [
       "<Figure size 432x288 with 1 Axes>"
      ]
     },
     "metadata": {},
     "output_type": "display_data"
    }
   ],
   "source": [
    "# Generate a pie plot showing the distribution of female versus male mice using pyplot\n",
    "\n",
    "\n",
    "gender_label = [\"Male\", \"Female\"]\n",
    "plt.pie(mouse_gender, labels = gender_label,autopct = '%1.1f%%')\n",
    "#plt.title(\"Sex\", loc = \"left\", rotation = \"vertical\")\n",
    "plt.ylabel(\"Sex\")"
   ]
  },
  {
   "cell_type": "markdown",
   "metadata": {},
   "source": [
    "## Quartiles, outliers and boxplots"
   ]
  },
  {
   "cell_type": "code",
   "execution_count": 61,
   "metadata": {},
   "outputs": [
    {
     "data": {
      "text/html": [
       "<div>\n",
       "<style scoped>\n",
       "    .dataframe tbody tr th:only-of-type {\n",
       "        vertical-align: middle;\n",
       "    }\n",
       "\n",
       "    .dataframe tbody tr th {\n",
       "        vertical-align: top;\n",
       "    }\n",
       "\n",
       "    .dataframe thead th {\n",
       "        text-align: right;\n",
       "    }\n",
       "</style>\n",
       "<table border=\"1\" class=\"dataframe\">\n",
       "  <thead>\n",
       "    <tr style=\"text-align: right;\">\n",
       "      <th></th>\n",
       "      <th>Mouse ID</th>\n",
       "      <th>Drug Regimen</th>\n",
       "      <th>Sex</th>\n",
       "      <th>Age_months</th>\n",
       "      <th>Weight (g)</th>\n",
       "      <th>Timepoint</th>\n",
       "      <th>Tumor Volume (mm3)</th>\n",
       "      <th>Metastatic Sites</th>\n",
       "    </tr>\n",
       "  </thead>\n",
       "  <tbody>\n",
       "    <tr>\n",
       "      <td>0</td>\n",
       "      <td>a203</td>\n",
       "      <td>Infubinol</td>\n",
       "      <td>Female</td>\n",
       "      <td>20</td>\n",
       "      <td>23</td>\n",
       "      <td>45</td>\n",
       "      <td>67.973419</td>\n",
       "      <td>2</td>\n",
       "    </tr>\n",
       "    <tr>\n",
       "      <td>1</td>\n",
       "      <td>a251</td>\n",
       "      <td>Infubinol</td>\n",
       "      <td>Female</td>\n",
       "      <td>21</td>\n",
       "      <td>25</td>\n",
       "      <td>45</td>\n",
       "      <td>65.525743</td>\n",
       "      <td>1</td>\n",
       "    </tr>\n",
       "    <tr>\n",
       "      <td>2</td>\n",
       "      <td>a262</td>\n",
       "      <td>Placebo</td>\n",
       "      <td>Female</td>\n",
       "      <td>17</td>\n",
       "      <td>29</td>\n",
       "      <td>45</td>\n",
       "      <td>70.717621</td>\n",
       "      <td>4</td>\n",
       "    </tr>\n",
       "    <tr>\n",
       "      <td>3</td>\n",
       "      <td>a275</td>\n",
       "      <td>Ceftamin</td>\n",
       "      <td>Female</td>\n",
       "      <td>20</td>\n",
       "      <td>28</td>\n",
       "      <td>45</td>\n",
       "      <td>62.999356</td>\n",
       "      <td>3</td>\n",
       "    </tr>\n",
       "    <tr>\n",
       "      <td>4</td>\n",
       "      <td>a366</td>\n",
       "      <td>Stelasyn</td>\n",
       "      <td>Female</td>\n",
       "      <td>16</td>\n",
       "      <td>29</td>\n",
       "      <td>30</td>\n",
       "      <td>63.440686</td>\n",
       "      <td>1</td>\n",
       "    </tr>\n",
       "  </tbody>\n",
       "</table>\n",
       "</div>"
      ],
      "text/plain": [
       "  Mouse ID Drug Regimen     Sex  Age_months  Weight (g)  Timepoint  \\\n",
       "0     a203    Infubinol  Female          20          23         45   \n",
       "1     a251    Infubinol  Female          21          25         45   \n",
       "2     a262      Placebo  Female          17          29         45   \n",
       "3     a275     Ceftamin  Female          20          28         45   \n",
       "4     a366     Stelasyn  Female          16          29         30   \n",
       "\n",
       "   Tumor Volume (mm3)  Metastatic Sites  \n",
       "0           67.973419                 2  \n",
       "1           65.525743                 1  \n",
       "2           70.717621                 4  \n",
       "3           62.999356                 3  \n",
       "4           63.440686                 1  "
      ]
     },
     "execution_count": 61,
     "metadata": {},
     "output_type": "execute_result"
    }
   ],
   "source": [
    "# Calculate the final tumor volume of each mouse across four of the most promising treatment regimens. Calculate the IQR and quantitatively determine if there are any potential outliers. \n",
    "maxtumor_data = pyma_data.groupby([\"Mouse ID\"]).max()\n",
    "maxtumor_data = maxtumor_data.reset_index()\n",
    "maxtumor_data.head()\n",
    "\n"
   ]
  },
  {
   "cell_type": "code",
   "execution_count": null,
   "metadata": {},
   "outputs": [],
   "source": []
  },
  {
   "cell_type": "code",
   "execution_count": null,
   "metadata": {},
   "outputs": [],
   "source": []
  },
  {
   "cell_type": "code",
   "execution_count": 62,
   "metadata": {},
   "outputs": [
    {
     "name": "stdout",
     "output_type": "stream",
     "text": [
      "Capolin IQR is 1.7490055199999972, Values below 42.376491720000004 and above 49.37251379999999 could be outliers.\n",
      "Infubinol IQR is 11.477135160000003, Values below 36.83290494999999 and above 82.74144559000001 could be outliers.\n",
      "Ceftamin IQR is 15.577752179999997, Values below 25.355449580000002 and above 87.66645829999999 could be outliers.\n",
      "Stelasyn IQR is 16.62734878500001, Values below 27.53557243999998 and above 94.04496758000002 could be outliers.\n"
     ]
    }
   ],
   "source": [
    "# Determine tumor volume of max(timepoint for mice treated by specific drug\n",
    "\n",
    "capomilin = maxtumor_data.loc[maxtumor_data[\"Drug Regimen\"] == \"Capomulin\"][\"Tumor Volume (mm3)\"]\n",
    "infubinol = maxtumor_data.loc[maxtumor_data[\"Drug Regimen\"] == \"Infubinol\"][\"Tumor Volume (mm3)\"]\n",
    "placebo = maxtumor_data.loc[maxtumor_data[\"Drug Regimen\"] == \"Placebo\"][\"Tumor Volume (mm3)\"]\n",
    "ceftamin = maxtumor_data.loc[maxtumor_data[\"Drug Regimen\"] == \"Ceftamin\"][\"Tumor Volume (mm3)\"]\n",
    "stelasyn = maxtumor_data.loc[maxtumor_data[\"Drug Regimen\"] == \"Stelasyn\"][\"Tumor Volume (mm3)\"]\n",
    "\n",
    "#sort values of tumor volume of each drug\n",
    "capomilin = capomilin.sort_values()\n",
    "infubinol = infubinol.sort_values()\n",
    "placebo = placebo.sort_values()\n",
    "ceftamin = ceftamin.sort_values()\n",
    "stelasyn = stelasyn.sort_values()\n",
    "\n",
    "#turn series into dataframe\n",
    "#capomilin = capomilin.to_frame()\n",
    "\n",
    "\n",
    "#quantitavely determine outliers for capomilin\n",
    "capo_quartiles = capomilin.quantile([0.25,0.5,0.75])\n",
    "capo_lowerq = capo_quartiles[0.25]\n",
    "capo_upperq = capo_quartiles[0.75]\n",
    "capo_iqr = capo_upperq - capo_lowerq\n",
    "\n",
    "capo_lowerbound = capo_lowerq - (1.5*capo_iqr)\n",
    "capo_upperbound = capo_upperq + (1.5*capo_iqr)\n",
    "\n",
    "#quantitavely determine outliers for infubinol\n",
    "inf_quartiles = infubinol.quantile([0.25,0.5,0.75])\n",
    "inf_lowerq = inf_quartiles[0.25]\n",
    "inf_upperq = inf_quartiles[0.75]\n",
    "inf_iqr = inf_upperq - inf_lowerq\n",
    "\n",
    "inf_lowerbound = inf_lowerq - (1.5*inf_iqr)\n",
    "inf_upperbound = inf_upperq + (1.5*inf_iqr)\n",
    "\n",
    "\n",
    "# # #quantitavely determine outliers for placebo\n",
    "# plac_quartiles = placebo.quantile([0.25,0.5,0.75])\n",
    "# plac_lowerq = plac_quartiles[0.25]\n",
    "# plac_upperq = plac_quartiles[0.75]\n",
    "# plac_iqr = plac_upperq - plac_lowerq\n",
    "# plac_lowerbound = plac_lowerq - (1.5*plac_iqr)\n",
    "# plac_upperbound = plac_upperq + (1.5*plac_iqr)\n",
    "\n",
    "# #quantitavely determine outliers for ceftamin\n",
    "cef_quartiles = ceftamin.quantile([0.25,0.5,0.75])\n",
    "cef_lowerq = cef_quartiles[0.25]\n",
    "cef_upperq = cef_quartiles[0.75]\n",
    "cef_iqr = cef_upperq - cef_lowerq\n",
    "\n",
    "cef_lowerbound = cef_lowerq - (1.5*cef_iqr)\n",
    "cef_upperbound = cef_upperq + (1.5*cef_iqr)\n",
    "\n",
    "# #quantitavely determine outliers for stelasyn\n",
    "ste_quartiles = stelasyn.quantile([0.25,0.5,0.75])\n",
    "ste_lowerq = ste_quartiles[0.25]\n",
    "ste_upperq = ste_quartiles[0.75]\n",
    "ste_iqr = ste_upperq - ste_lowerq\n",
    "\n",
    "ste_lowerbound = ste_lowerq - (1.5*ste_iqr)\n",
    "ste_upperbound = ste_upperq + (1.5*ste_iqr)\n",
    "\n",
    "print(f'Capolin IQR is {capo_iqr}, Values below {capo_lowerbound} and above {capo_upperbound} could be outliers.')\n",
    "print(f'Infubinol IQR is {inf_iqr}, Values below {inf_lowerbound} and above {inf_upperbound} could be outliers.')\n",
    "# print(f'Placebo IQR is {plac_iqr}, Values below {plac_lowerbound} and above {plac_upperbound} could be outliers.')\n",
    "print(f'Ceftamin IQR is {cef_iqr}, Values below {cef_lowerbound} and above {cef_upperbound} could be outliers.')\n",
    "print(f'Stelasyn IQR is {ste_iqr}, Values below {ste_lowerbound} and above {ste_upperbound} could be outliers.')\n",
    "\n"
   ]
  },
  {
   "cell_type": "code",
   "execution_count": 63,
   "metadata": {},
   "outputs": [
    {
     "data": {
      "text/plain": [
       "Text(0, 0.5, 'Final Tumor Volume (mm3)')"
      ]
     },
     "execution_count": 63,
     "metadata": {},
     "output_type": "execute_result"
    },
    {
     "data": {
      "image/png": "[encoded data removed]",
      "text/plain": [
       "<Figure size 432x288 with 1 Axes>"
      ]
     },
     "metadata": {
      "needs_background": "light"
     },
     "output_type": "display_data"
    }
   ],
   "source": [
    "# Generate a box plot of the final tumor volume of each mouse across four regimens of interest\n",
    "\n",
    "plt.boxplot([capomilin,infubinol,ceftamin,stelasyn], labels = [\"capomulin\",\"infubinol\",\"ceftamin\",\"stelasyn\"])\n",
    "plt.ylabel(\"Final Tumor Volume (mm3)\")"
   ]
  },
  {
   "cell_type": "markdown",
   "metadata": {},
   "source": [
    "## Line and scatter plots"
   ]
  },
  {
   "cell_type": "code",
   "execution_count": 112,
   "metadata": {},
   "outputs": [
    {
     "name": "stdout",
     "output_type": "stream",
     "text": [
      "   Mouse ID Drug Regimen     Sex  Age_months  Weight (g)  Timepoint  \\\n",
      "10     s185    Capomulin  Female           3          17          0   \n",
      "11     s185    Capomulin  Female           3          17          5   \n",
      "12     s185    Capomulin  Female           3          17         10   \n",
      "13     s185    Capomulin  Female           3          17         15   \n",
      "14     s185    Capomulin  Female           3          17         20   \n",
      "\n",
      "    Tumor Volume (mm3)  Metastatic Sites  \n",
      "10           45.000000                 0  \n",
      "11           43.878496                 0  \n",
      "12           37.614948                 0  \n",
      "13           38.177232                 0  \n",
      "14           36.866876                 0  \n"
     ]
    },
    {
     "data": {
      "text/plain": [
       "Text(0.5, 1.0, \"Tumor Volume over Time for Mouse 's185' on Capomilin\")"
      ]
     },
     "execution_count": 112,
     "metadata": {},
     "output_type": "execute_result"
    },
    {
     "data": {
      "image/png": "[encoded data removed]",
      "text/plain": [
       "<Figure size 432x288 with 1 Axes>"
      ]
     },
     "metadata": {
      "needs_background": "light"
     },
     "output_type": "display_data"
    }
   ],
   "source": [
    "# Generate a line plot of time point versus tumor volume for a mouse treated with Capomulin\n",
    "capomulin_table = pyma_data.loc[pyma_data[\"Drug Regimen\"]== \"Capomulin\"]\n",
    "print(capomulin_table.head())\n",
    "#find time point data for mouse id s185\n",
    "mouse_capo = capomulin_table.loc[capomulin_table[\"Mouse ID\"]==\"s185\"]\n",
    "\n",
    "\n",
    "# capo_mouse_y = mouse_capo[\"Timepoint\"]\n",
    "# capo_mouse_x = mouse_capo[\"Tumor Volume (mm3)\"]\n",
    "# capo_line_df =pd.DataFrame({\"Tumor Volume (mm3)\":capo_mouse_x,\"Timepoint\":capo_mouse_y, })\n",
    "# capo_line_df.plot.line()\n",
    "#plot.line(capo_mouse_x,capo_mouse_y)\n",
    "\n",
    "plt.plot(mouse_capo[\"Timepoint\"],mouse_capo[\"Tumor Volume (mm3)\"])\n",
    "plt.xlabel(\"Timepoint (Days)\")\n",
    "plt.ylabel(\"Tumor Volume (mm3)\")\n",
    "plt.title(\"Tumor Volume over Time for Mouse 's185' on Capomilin\")\n"
   ]
  },
  {
   "cell_type": "code",
   "execution_count": 136,
   "metadata": {},
   "outputs": [
    {
     "data": {
      "text/plain": [
       "<matplotlib.collections.PathCollection at 0x1a26019a088>"
      ]
     },
     "execution_count": 136,
     "metadata": {},
     "output_type": "execute_result"
    },
    {
     "data": {
      "image/png": "[encoded data removed]",
      "text/plain": [
       "<Figure size 432x288 with 1 Axes>"
      ]
     },
     "metadata": {
      "needs_background": "light"
     },
     "output_type": "display_data"
    }
   ],
   "source": [
    "# Generate a scatter plot of mouse weight versus average tumor volume for the Capomulin regimen\n",
    "#print(capomulin_table)\n",
    "#avg_mouse = mouse_capo.groupby([\"Mouse ID\"]).mean()\n",
    "avg_capo_df = capomulin_table.groupby([\"Mouse ID\"]).mean()\n",
    "\n",
    "plt.scatter(avg_capo_df[\"Weight (g)\"],avg_capo_df[\"Tumor Volume (mm3)\"])\n",
    "\n"
   ]
  },
  {
   "cell_type": "code",
   "execution_count": 66,
   "metadata": {},
   "outputs": [],
   "source": [
    "# Calculate the correlation coefficient and linear regression model for mouse weight and average tumor volume for the Capomulin regimen"
   ]
  },
  {
   "cell_type": "code",
   "execution_count": null,
   "metadata": {},
   "outputs": [],
   "source": []
  }
 ],
 "metadata": {
  "anaconda-cloud": {},
  "kernelspec": {
   "display_name": "Python 3",
   "language": "python",
   "name": "python3"
  },
  "language_info": {
   "codemirror_mode": {
    "name": "ipython",
    "version": 3
   },
   "file_extension": ".py",
   "mimetype": "text/x-python",
   "name": "python",
   "nbconvert_exporter": "python",
   "pygments_lexer": "ipython3",
   "version": "3.7.4"
  }
 },
 "nbformat": 4,
 "nbformat_minor": 2
}
